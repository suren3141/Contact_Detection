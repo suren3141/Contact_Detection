{
 "cells": [
  {
   "cell_type": "code",
   "execution_count": 15,
   "metadata": {},
   "outputs": [],
   "source": [
    "# Saves a list of images into a text file with its path\n",
    "\n",
    "import os\n",
    "# import argparse\n",
    "\n",
    "# ap = argparse.ArgumentParser()\n",
    "# ap.add_argument(\"-dir\", \"--directory\", required=False, help=\"directory path to image list text file\")\n",
    "# ap.add_argument(\"-ext\", \"--extension\", required=False, default='jpg', help=\"extension name. default is 'png'.\")\n",
    "# args = vars(ap.parse_args())\n",
    "\n",
    "# dir_path = args['directory']\n",
    "# ext = args['extension']\n",
    "dir_path = 'videos/seq18/other'\n",
    "ext = 'jpg'\n",
    "file = os.path.split(dir_path)\n",
    "save = os.path.split(file[0])\n",
    "savepath = os.path.join(save[0],file[1]+'.txt')\n",
    "\n",
    "def save_to_file(text):\n",
    "\n",
    "    with open(savepath, mode='wt', encoding='utf-8') as myfile:\n",
    "        myfile.write('\\n'.join(text))\n",
    "        myfile.write('\\n')\n",
    "\n",
    "\n",
    "images = []\n",
    "image_path = []\n",
    "for f in os.listdir(dir_path):\n",
    "    if f.endswith(ext):\n",
    "        images.append(f)\n",
    "\n",
    "        \n",
    "images = sorted(images, key=lambda x: int(x[0:-4]))\n",
    "\n",
    "for image in images:\n",
    "    image_path.append(os.path.join(dir_path, image))\n",
    "\n",
    "save_to_file(image_path)"
   ]
  },
  {
   "cell_type": "code",
   "execution_count": null,
   "metadata": {},
   "outputs": [],
   "source": []
  }
 ],
 "metadata": {
  "kernelspec": {
   "display_name": "Python 3.7 (vision)",
   "language": "python",
   "name": "vision"
  },
  "language_info": {
   "codemirror_mode": {
    "name": "ipython",
    "version": 3
   },
   "file_extension": ".py",
   "mimetype": "text/x-python",
   "name": "python",
   "nbconvert_exporter": "python",
   "pygments_lexer": "ipython3",
   "version": "3.7.9"
  }
 },
 "nbformat": 4,
 "nbformat_minor": 4
}
