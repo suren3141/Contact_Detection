{
 "cells": [
  {
   "cell_type": "code",
   "execution_count": 46,
   "metadata": {},
   "outputs": [],
   "source": [
    "import cv2\n",
    "import argparse\n",
    "import os\n",
    "\n",
    "# Construct the argument parser and parse the arguments\n",
    "# ap = argparse.ArgumentParser()\n",
    "# ap.add_argument(\"-ext\", \"--extension\", required=False, default='png', help=\"extension name. default is 'png'.\")\n",
    "# ap.add_argument(\"-o\", \"--output\", required=False, default='output.mp4', help=\"output video file\")\n",
    "# args = vars(ap.parse_args())\n",
    "\n",
    "# Arguments\n",
    "video='new'\n",
    "dir_path = 'viz_predictions/'+video+'/detection_elbow_vec/'\n",
    "ext = 'jpg'\n",
    "output ='/detection_elbow_vec.mp4'\n",
    "# ext = args['extension']\n",
    "# output = args['output']\n",
    "\n",
    "images = []\n",
    "for f in os.listdir(dir_path):\n",
    "    if f.endswith(ext):\n",
    "        images.append(f)\n",
    "\n",
    "images = sorted(images, key=lambda x:int(x[0:-4]))\n",
    "save_path = 'results/'+video\n",
    "\n",
    "if not os.path.exists(save_path):\n",
    "    os.makedirs(save_path)\n",
    "    \n",
    "# Determine the width and height from the first image\n",
    "image_path = os.path.join(dir_path, images[0])"
   ]
  },
  {
   "cell_type": "code",
   "execution_count": 47,
   "metadata": {},
   "outputs": [
    {
     "name": "stdout",
     "output_type": "stream",
     "text": [
      "The output video is /detection_elbow_vec.mp4\n"
     ]
    }
   ],
   "source": [
    "frame = cv2.imread(image_path)\n",
    "# cv2.imshow('video',frame)\n",
    "height, width, channels = frame.shape\n",
    "\n",
    "#Define the codec and create VideoWriter object\n",
    "fourcc = cv2.VideoWriter_fourcc(*'mp4v') # Be sure to use lower case\n",
    "out = cv2.VideoWriter(save_path+output, fourcc, 20,(width, height))\n",
    "\n",
    "for image in images:\n",
    "\n",
    "    image_path = os.path.join(dir_path, image)\n",
    "    frame = cv2.imread(image_path)\n",
    "\n",
    "    out.write(frame) # Write out frame to video\n",
    "\n",
    "#     cv2.imshow('video',frame)\n",
    "    if (cv2.waitKey(1) & 0xFF) == ord('q'): # Hit `q` to exit\n",
    "        break\n",
    "\n",
    "#Release everything if job is finished\n",
    "out.release()\n",
    "cv2.destroyAllWindows()\n",
    "\n",
    "print(\"The output video is {}\".format(output))"
   ]
  },
  {
   "cell_type": "code",
   "execution_count": null,
   "metadata": {},
   "outputs": [],
   "source": []
  },
  {
   "cell_type": "code",
   "execution_count": null,
   "metadata": {},
   "outputs": [],
   "source": []
  }
 ],
 "metadata": {
  "kernelspec": {
   "display_name": "Python 3",
   "language": "python",
   "name": "python3"
  },
  "language_info": {
   "codemirror_mode": {
    "name": "ipython",
    "version": 3
   },
   "file_extension": ".py",
   "mimetype": "text/x-python",
   "name": "python",
   "nbconvert_exporter": "python",
   "pygments_lexer": "ipython3",
   "version": "3.7.6"
  }
 },
 "nbformat": 4,
 "nbformat_minor": 4
}
