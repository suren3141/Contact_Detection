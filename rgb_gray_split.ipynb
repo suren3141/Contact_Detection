{
 "cells": [
  {
   "cell_type": "code",
   "execution_count": 5,
   "metadata": {},
   "outputs": [],
   "source": [
    "import glob\n",
    "import cv2\n",
    "import numpy as np\n",
    "import matplotlib.pyplot as plt\n",
    "import os\n",
    "from natsort import natsorted"
   ]
  },
  {
   "cell_type": "code",
   "execution_count": 2,
   "metadata": {},
   "outputs": [],
   "source": [
    "direc = \"viz_predictions/other/\"\n",
    "graypath = direc+\"gray\"\n",
    "rgbpath = direc+\"rgb\"\n",
    "\n",
    "if not os.path.exists(graypath):\n",
    "    os.makedirs(graypath)\n",
    "\n",
    "if not os.path.exists(rgbpath):\n",
    "    os.makedirs(rgbpath)\n",
    "\n",
    "cv_img = []\n",
    "for img in natsorted(glob.glob(direc+\"*.jpg\")):\n",
    "    n = cv2.imread(img,1)\n",
    "    img_rgb = n[:,:512,:]\n",
    "    img_gray = n[:,512:,:]\n",
    "    cv2.imwrite(os.path.join(graypath, os.path.basename(img)), img_gray)\n",
    "    cv2.imwrite(os.path.join(rgbpath, os.path.basename(img)), img_rgb)\n",
    "    cv_img.append(n)\n",
    "\n",
    "# plt.imshow(cv2.cvtColor(n, cv2.COLOR_BGR2RGB))"
   ]
  },
  {
   "cell_type": "code",
   "execution_count": 19,
   "metadata": {},
   "outputs": [
    {
     "name": "stdout",
     "output_type": "stream",
     "text": [
      "viz_predictions/dance-twirl/00070.jpg\n",
      "00070\n"
     ]
    }
   ],
   "source": []
  },
  {
   "cell_type": "code",
   "execution_count": null,
   "metadata": {},
   "outputs": [],
   "source": []
  },
  {
   "cell_type": "code",
   "execution_count": null,
   "metadata": {},
   "outputs": [],
   "source": []
  }
 ],
 "metadata": {
  "kernelspec": {
   "display_name": "Python 3.7 (vision)",
   "language": "python",
   "name": "vision"
  },
  "language_info": {
   "codemirror_mode": {
    "name": "ipython",
    "version": 3
   },
   "file_extension": ".py",
   "mimetype": "text/x-python",
   "name": "python",
   "nbconvert_exporter": "python",
   "pygments_lexer": "ipython3",
   "version": "3.7.9"
  }
 },
 "nbformat": 4,
 "nbformat_minor": 4
}
